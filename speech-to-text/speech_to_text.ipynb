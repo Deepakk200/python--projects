{
 "cells": [
  {
   "cell_type": "code",
   "execution_count": 6,
   "metadata": {},
   "outputs": [
    {
     "name": "stdout",
     "output_type": "stream",
     "text": [
      "Listening...\n",
      "You said: hello\n",
      "Listening...\n",
      "Could not understand the audio.\n",
      "Listening...\n",
      "Could not understand the audio.\n",
      "Listening...\n",
      "You said: exit\n",
      "Exiting program...\n",
      "Program terminated.\n"
     ]
    }
   ],
   "source": [
    "import speech_recognition as sr\n",
    "import pyttsx3 \n",
    "\n",
    "r = sr.Recognizer()\n",
    "\n",
    "def SpeakText(command):  \n",
    "    engine = pyttsx3.init()\n",
    "    engine.say(command) \n",
    "    engine.runAndWait()\n",
    "\n",
    "with sr.Microphone() as source2:\n",
    "    r.adjust_for_ambient_noise(source2, duration=0.2)\n",
    "    \n",
    "    while True:\n",
    "        try:\n",
    "            print(\"Listening...\")\n",
    "            audio2 = r.listen(source2)\n",
    "            MyText = r.recognize_google(audio2).lower()\n",
    "            print(\"You said:\", MyText)\n",
    "            SpeakText(MyText)\n",
    "\n",
    "            if \"exit\" in MyText or \"stop\" in MyText:\n",
    "                print(\"Exiting program...\")\n",
    "                break  # Stop the loop if \"exit\" or \"stop\" is spoken\n",
    "\n",
    "        except sr.UnknownValueError:\n",
    "            print(\"Could not understand the audio.\")\n",
    "        except sr.RequestError:\n",
    "            print(\"Could not request results.\")\n",
    "\n",
    "print(\"Program terminated.\")\n"
   ]
  }
 ],
 "metadata": {
  "kernelspec": {
   "display_name": "ml_env_py38",
   "language": "python",
   "name": "python3"
  },
  "language_info": {
   "codemirror_mode": {
    "name": "ipython",
    "version": 3
   },
   "file_extension": ".py",
   "mimetype": "text/x-python",
   "name": "python",
   "nbconvert_exporter": "python",
   "pygments_lexer": "ipython3",
   "version": "3.8.20"
  }
 },
 "nbformat": 4,
 "nbformat_minor": 2
}
